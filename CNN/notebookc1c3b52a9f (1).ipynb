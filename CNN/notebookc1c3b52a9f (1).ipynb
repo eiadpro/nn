{
  "metadata": {
    "kernelspec": {
      "language": "python",
      "display_name": "Python 3",
      "name": "python3"
    },
    "language_info": {
      "name": "python",
      "version": "3.10.14",
      "mimetype": "text/x-python",
      "codemirror_mode": {
        "name": "ipython",
        "version": 3
      },
      "pygments_lexer": "ipython3",
      "nbconvert_exporter": "python",
      "file_extension": ".py"
    },
    "kaggle": {
      "accelerator": "nvidiaTeslaT4",
      "dataSources": [
        {
          "sourceId": 10199933,
          "sourceType": "datasetVersion",
          "datasetId": 6302864
        }
      ],
      "dockerImageVersionId": 30805,
      "isInternetEnabled": true,
      "language": "python",
      "sourceType": "notebook",
      "isGpuEnabled": true
    },
    "colab": {
      "provenance": []
    }
  },
  "nbformat_minor": 0,
  "nbformat": 4,
  "cells": [
    {
      "cell_type": "code",
      "source": [
        "import pandas as pd\n",
        "train = pd.read_csv('/content/train.csv')\n",
        "test = pd.read_csv('/content/test.csv')"
      ],
      "metadata": {
        "_uuid": "8f2839f25d086af736a60e9eeb907d3b93b6e0e5",
        "_cell_guid": "b1076dfc-b9ad-4769-8c92-a6c4dae69d19",
        "trusted": true,
        "execution": {
          "iopub.status.busy": "2024-12-14T15:05:23.588502Z",
          "iopub.execute_input": "2024-12-14T15:05:23.589394Z",
          "iopub.status.idle": "2024-12-14T15:05:23.967438Z",
          "shell.execute_reply.started": "2024-12-14T15:05:23.589360Z",
          "shell.execute_reply": "2024-12-14T15:05:23.966507Z"
        },
        "id": "yN5wncePCwqf"
      },
      "outputs": [],
      "execution_count": 2
    },
    {
      "cell_type": "code",
      "source": [
        "train['Discussion'].isnull().sum()"
      ],
      "metadata": {
        "trusted": true,
        "execution": {
          "iopub.status.busy": "2024-12-14T15:05:47.454697Z",
          "iopub.execute_input": "2024-12-14T15:05:47.455020Z",
          "iopub.status.idle": "2024-12-14T15:05:47.469062Z",
          "shell.execute_reply.started": "2024-12-14T15:05:47.454993Z",
          "shell.execute_reply": "2024-12-14T15:05:47.468253Z"
        },
        "id": "PSh0jqEKCwqg",
        "outputId": "79d071e0-8365-4cc9-8938-4687a7be1954",
        "colab": {
          "base_uri": "https://localhost:8080/"
        }
      },
      "outputs": [
        {
          "output_type": "execute_result",
          "data": {
            "text/plain": [
              "343"
            ]
          },
          "metadata": {},
          "execution_count": 3
        }
      ],
      "execution_count": 3
    },
    {
      "cell_type": "code",
      "source": [
        "train = train.dropna(subset=['Discussion'])"
      ],
      "metadata": {
        "trusted": true,
        "execution": {
          "iopub.status.busy": "2024-12-14T15:06:07.354596Z",
          "iopub.execute_input": "2024-12-14T15:06:07.354915Z",
          "iopub.status.idle": "2024-12-14T15:06:07.370368Z",
          "shell.execute_reply.started": "2024-12-14T15:06:07.354888Z",
          "shell.execute_reply": "2024-12-14T15:06:07.369390Z"
        },
        "id": "lGKSd-7rCwqh"
      },
      "outputs": [],
      "execution_count": 4
    },
    {
      "cell_type": "code",
      "source": [
        "train['Discussion'].isnull().sum()          # should be 0"
      ],
      "metadata": {
        "trusted": true,
        "execution": {
          "iopub.status.busy": "2024-12-14T15:06:10.882878Z",
          "iopub.execute_input": "2024-12-14T15:06:10.883490Z",
          "iopub.status.idle": "2024-12-14T15:06:10.891823Z",
          "shell.execute_reply.started": "2024-12-14T15:06:10.883456Z",
          "shell.execute_reply": "2024-12-14T15:06:10.890920Z"
        },
        "id": "NltHBhVHCwqi",
        "outputId": "7c00ad37-c607-4940-d824-3bfca86951aa",
        "colab": {
          "base_uri": "https://localhost:8080/"
        }
      },
      "outputs": [
        {
          "output_type": "execute_result",
          "data": {
            "text/plain": [
              "0"
            ]
          },
          "metadata": {},
          "execution_count": 5
        }
      ],
      "execution_count": 5
    },
    {
      "cell_type": "code",
      "source": [
        "file = open('/content/ClassesMap.txt','r')\n",
        "file2 = file.read()\n",
        "file.close()\n",
        "file2"
      ],
      "metadata": {
        "trusted": true,
        "execution": {
          "iopub.status.busy": "2024-12-14T15:06:29.391818Z",
          "iopub.execute_input": "2024-12-14T15:06:29.392495Z",
          "iopub.status.idle": "2024-12-14T15:06:29.401111Z",
          "shell.execute_reply.started": "2024-12-14T15:06:29.392463Z",
          "shell.execute_reply": "2024-12-14T15:06:29.400444Z"
        },
        "id": "gL4btS_-Cwqi",
        "outputId": "6be2388e-f280-4ec9-f6b7-df6aaf0d1198",
        "colab": {
          "base_uri": "https://localhost:8080/",
          "height": 35
        }
      },
      "outputs": [
        {
          "output_type": "execute_result",
          "data": {
            "text/plain": [
              "'Politics --> 0\\nSports --> 1\\nMedia --> 2\\nMarket & Economy --> 3\\nSTEM --> 4'"
            ],
            "application/vnd.google.colaboratory.intrinsic+json": {
              "type": "string"
            }
          },
          "metadata": {},
          "execution_count": 6
        }
      ],
      "execution_count": 6
    },
    {
      "cell_type": "code",
      "source": [
        "train['Category'].replace({\n",
        "    'Politics': 0,\n",
        "    'Sports': 1,\n",
        "    'Media': 2,\n",
        "    'Market & Economy': 3,\n",
        "    'STEM': 4\n",
        "}, inplace=True)"
      ],
      "metadata": {
        "trusted": true,
        "execution": {
          "iopub.status.busy": "2024-12-14T15:06:36.422735Z",
          "iopub.execute_input": "2024-12-14T15:06:36.423051Z",
          "iopub.status.idle": "2024-12-14T15:06:36.439328Z",
          "shell.execute_reply.started": "2024-12-14T15:06:36.423024Z",
          "shell.execute_reply": "2024-12-14T15:06:36.438424Z"
        },
        "id": "INNuJif8Cwqi",
        "outputId": "38081b4c-ed44-4fef-ebe6-ebf4960d57fe",
        "colab": {
          "base_uri": "https://localhost:8080/"
        }
      },
      "outputs": [
        {
          "output_type": "stream",
          "name": "stderr",
          "text": [
            "<ipython-input-7-51e8ddf63547>:1: FutureWarning: A value is trying to be set on a copy of a DataFrame or Series through chained assignment using an inplace method.\n",
            "The behavior will change in pandas 3.0. This inplace method will never work because the intermediate object on which we are setting values always behaves as a copy.\n",
            "\n",
            "For example, when doing 'df[col].method(value, inplace=True)', try using 'df.method({col: value}, inplace=True)' or df[col] = df[col].method(value) instead, to perform the operation inplace on the original object.\n",
            "\n",
            "\n",
            "  train['Category'].replace({\n",
            "<ipython-input-7-51e8ddf63547>:1: FutureWarning: Downcasting behavior in `replace` is deprecated and will be removed in a future version. To retain the old behavior, explicitly call `result.infer_objects(copy=False)`. To opt-in to the future behavior, set `pd.set_option('future.no_silent_downcasting', True)`\n",
            "  train['Category'].replace({\n"
          ]
        }
      ],
      "execution_count": 7
    },
    {
      "cell_type": "code",
      "source": [
        "train['Category'].head(7)"
      ],
      "metadata": {
        "trusted": true,
        "execution": {
          "iopub.status.busy": "2024-12-14T15:06:50.317649Z",
          "iopub.execute_input": "2024-12-14T15:06:50.317957Z",
          "iopub.status.idle": "2024-12-14T15:06:50.324446Z",
          "shell.execute_reply.started": "2024-12-14T15:06:50.317930Z",
          "shell.execute_reply": "2024-12-14T15:06:50.323389Z"
        },
        "id": "rM1djArWCwqj",
        "outputId": "5fe96dac-7056-4b37-8f10-03a3d6676a85",
        "colab": {
          "base_uri": "https://localhost:8080/",
          "height": 303
        }
      },
      "outputs": [
        {
          "output_type": "execute_result",
          "data": {
            "text/plain": [
              "0    1\n",
              "1    4\n",
              "2    4\n",
              "3    1\n",
              "4    0\n",
              "5    2\n",
              "6    2\n",
              "Name: Category, dtype: int64"
            ],
            "text/html": [
              "<div>\n",
              "<style scoped>\n",
              "    .dataframe tbody tr th:only-of-type {\n",
              "        vertical-align: middle;\n",
              "    }\n",
              "\n",
              "    .dataframe tbody tr th {\n",
              "        vertical-align: top;\n",
              "    }\n",
              "\n",
              "    .dataframe thead th {\n",
              "        text-align: right;\n",
              "    }\n",
              "</style>\n",
              "<table border=\"1\" class=\"dataframe\">\n",
              "  <thead>\n",
              "    <tr style=\"text-align: right;\">\n",
              "      <th></th>\n",
              "      <th>Category</th>\n",
              "    </tr>\n",
              "  </thead>\n",
              "  <tbody>\n",
              "    <tr>\n",
              "      <th>0</th>\n",
              "      <td>1</td>\n",
              "    </tr>\n",
              "    <tr>\n",
              "      <th>1</th>\n",
              "      <td>4</td>\n",
              "    </tr>\n",
              "    <tr>\n",
              "      <th>2</th>\n",
              "      <td>4</td>\n",
              "    </tr>\n",
              "    <tr>\n",
              "      <th>3</th>\n",
              "      <td>1</td>\n",
              "    </tr>\n",
              "    <tr>\n",
              "      <th>4</th>\n",
              "      <td>0</td>\n",
              "    </tr>\n",
              "    <tr>\n",
              "      <th>5</th>\n",
              "      <td>2</td>\n",
              "    </tr>\n",
              "    <tr>\n",
              "      <th>6</th>\n",
              "      <td>2</td>\n",
              "    </tr>\n",
              "  </tbody>\n",
              "</table>\n",
              "</div><br><label><b>dtype:</b> int64</label>"
            ]
          },
          "metadata": {},
          "execution_count": 8
        }
      ],
      "execution_count": 8
    },
    {
      "cell_type": "code",
      "source": [
        "! pip install wordninja"
      ],
      "metadata": {
        "trusted": true,
        "execution": {
          "iopub.status.busy": "2024-12-14T15:07:27.322130Z",
          "iopub.execute_input": "2024-12-14T15:07:27.322962Z",
          "iopub.status.idle": "2024-12-14T15:07:38.715719Z",
          "shell.execute_reply.started": "2024-12-14T15:07:27.322929Z",
          "shell.execute_reply": "2024-12-14T15:07:38.714898Z"
        },
        "id": "4wZ2avV7Cwqj",
        "outputId": "99311062-43d3-485d-92df-781800445764",
        "colab": {
          "base_uri": "https://localhost:8080/"
        }
      },
      "outputs": [
        {
          "output_type": "stream",
          "name": "stdout",
          "text": [
            "Collecting wordninja\n",
            "  Downloading wordninja-2.0.0.tar.gz (541 kB)\n",
            "\u001b[?25l     \u001b[90m━━━━━━━━━━━━━━━━━━━━━━━━━━━━━━━━━━━━━━━━\u001b[0m \u001b[32m0.0/541.6 kB\u001b[0m \u001b[31m?\u001b[0m eta \u001b[36m-:--:--\u001b[0m\r\u001b[2K     \u001b[91m━━━━━━━━━━━━━━━━━━━━━━━━━━━━━━━━━━━━━━━\u001b[0m\u001b[90m╺\u001b[0m \u001b[32m532.5/541.6 kB\u001b[0m \u001b[31m18.4 MB/s\u001b[0m eta \u001b[36m0:00:01\u001b[0m\r\u001b[2K     \u001b[90m━━━━━━━━━━━━━━━━━━━━━━━━━━━━━━━━━━━━━━━━\u001b[0m \u001b[32m541.6/541.6 kB\u001b[0m \u001b[31m10.4 MB/s\u001b[0m eta \u001b[36m0:00:00\u001b[0m\n",
            "\u001b[?25h  Preparing metadata (setup.py) ... \u001b[?25l\u001b[?25hdone\n",
            "Building wheels for collected packages: wordninja\n",
            "  Building wheel for wordninja (setup.py) ... \u001b[?25l\u001b[?25hdone\n",
            "  Created wheel for wordninja: filename=wordninja-2.0.0-py3-none-any.whl size=541530 sha256=bc2a7559dbe7e193abfe579f4a7cf520e17344e401a5c2784bf2faf5394474fa\n",
            "  Stored in directory: /root/.cache/pip/wheels/aa/44/3a/f2a5c1859b8b541ded969b4cd12d0a58897f12408f4f51e084\n",
            "Successfully built wordninja\n",
            "Installing collected packages: wordninja\n",
            "Successfully installed wordninja-2.0.0\n"
          ]
        }
      ],
      "execution_count": 9
    },
    {
      "cell_type": "code",
      "source": [
        "! pip install tensorflow"
      ],
      "metadata": {
        "trusted": true,
        "execution": {
          "iopub.status.busy": "2024-12-14T15:07:39.297285Z",
          "iopub.execute_input": "2024-12-14T15:07:39.297631Z",
          "iopub.status.idle": "2024-12-14T15:07:47.501224Z",
          "shell.execute_reply.started": "2024-12-14T15:07:39.297602Z",
          "shell.execute_reply": "2024-12-14T15:07:47.499785Z"
        },
        "id": "dx37y3h3Cwqj",
        "outputId": "7307cdd2-0581-4cec-8f6c-cbfa9237e32d",
        "colab": {
          "base_uri": "https://localhost:8080/"
        }
      },
      "outputs": [
        {
          "output_type": "stream",
          "name": "stdout",
          "text": [
            "Requirement already satisfied: tensorflow in /usr/local/lib/python3.10/dist-packages (2.17.1)\n",
            "Requirement already satisfied: absl-py>=1.0.0 in /usr/local/lib/python3.10/dist-packages (from tensorflow) (1.4.0)\n",
            "Requirement already satisfied: astunparse>=1.6.0 in /usr/local/lib/python3.10/dist-packages (from tensorflow) (1.6.3)\n",
            "Requirement already satisfied: flatbuffers>=24.3.25 in /usr/local/lib/python3.10/dist-packages (from tensorflow) (24.3.25)\n",
            "Requirement already satisfied: gast!=0.5.0,!=0.5.1,!=0.5.2,>=0.2.1 in /usr/local/lib/python3.10/dist-packages (from tensorflow) (0.6.0)\n",
            "Requirement already satisfied: google-pasta>=0.1.1 in /usr/local/lib/python3.10/dist-packages (from tensorflow) (0.2.0)\n",
            "Requirement already satisfied: h5py>=3.10.0 in /usr/local/lib/python3.10/dist-packages (from tensorflow) (3.12.1)\n",
            "Requirement already satisfied: libclang>=13.0.0 in /usr/local/lib/python3.10/dist-packages (from tensorflow) (18.1.1)\n",
            "Requirement already satisfied: ml-dtypes<0.5.0,>=0.3.1 in /usr/local/lib/python3.10/dist-packages (from tensorflow) (0.4.1)\n",
            "Requirement already satisfied: opt-einsum>=2.3.2 in /usr/local/lib/python3.10/dist-packages (from tensorflow) (3.4.0)\n",
            "Requirement already satisfied: packaging in /usr/local/lib/python3.10/dist-packages (from tensorflow) (24.2)\n",
            "Requirement already satisfied: protobuf!=4.21.0,!=4.21.1,!=4.21.2,!=4.21.3,!=4.21.4,!=4.21.5,<5.0.0dev,>=3.20.3 in /usr/local/lib/python3.10/dist-packages (from tensorflow) (4.25.5)\n",
            "Requirement already satisfied: requests<3,>=2.21.0 in /usr/local/lib/python3.10/dist-packages (from tensorflow) (2.32.3)\n",
            "Requirement already satisfied: setuptools in /usr/local/lib/python3.10/dist-packages (from tensorflow) (75.1.0)\n",
            "Requirement already satisfied: six>=1.12.0 in /usr/local/lib/python3.10/dist-packages (from tensorflow) (1.17.0)\n",
            "Requirement already satisfied: termcolor>=1.1.0 in /usr/local/lib/python3.10/dist-packages (from tensorflow) (2.5.0)\n",
            "Requirement already satisfied: typing-extensions>=3.6.6 in /usr/local/lib/python3.10/dist-packages (from tensorflow) (4.12.2)\n",
            "Requirement already satisfied: wrapt>=1.11.0 in /usr/local/lib/python3.10/dist-packages (from tensorflow) (1.17.0)\n",
            "Requirement already satisfied: grpcio<2.0,>=1.24.3 in /usr/local/lib/python3.10/dist-packages (from tensorflow) (1.68.1)\n",
            "Requirement already satisfied: tensorboard<2.18,>=2.17 in /usr/local/lib/python3.10/dist-packages (from tensorflow) (2.17.1)\n",
            "Requirement already satisfied: keras>=3.2.0 in /usr/local/lib/python3.10/dist-packages (from tensorflow) (3.5.0)\n",
            "Requirement already satisfied: tensorflow-io-gcs-filesystem>=0.23.1 in /usr/local/lib/python3.10/dist-packages (from tensorflow) (0.37.1)\n",
            "Requirement already satisfied: numpy<2.0.0,>=1.23.5 in /usr/local/lib/python3.10/dist-packages (from tensorflow) (1.26.4)\n",
            "Requirement already satisfied: wheel<1.0,>=0.23.0 in /usr/local/lib/python3.10/dist-packages (from astunparse>=1.6.0->tensorflow) (0.45.1)\n",
            "Requirement already satisfied: rich in /usr/local/lib/python3.10/dist-packages (from keras>=3.2.0->tensorflow) (13.9.4)\n",
            "Requirement already satisfied: namex in /usr/local/lib/python3.10/dist-packages (from keras>=3.2.0->tensorflow) (0.0.8)\n",
            "Requirement already satisfied: optree in /usr/local/lib/python3.10/dist-packages (from keras>=3.2.0->tensorflow) (0.13.1)\n",
            "Requirement already satisfied: charset-normalizer<4,>=2 in /usr/local/lib/python3.10/dist-packages (from requests<3,>=2.21.0->tensorflow) (3.4.0)\n",
            "Requirement already satisfied: idna<4,>=2.5 in /usr/local/lib/python3.10/dist-packages (from requests<3,>=2.21.0->tensorflow) (3.10)\n",
            "Requirement already satisfied: urllib3<3,>=1.21.1 in /usr/local/lib/python3.10/dist-packages (from requests<3,>=2.21.0->tensorflow) (2.2.3)\n",
            "Requirement already satisfied: certifi>=2017.4.17 in /usr/local/lib/python3.10/dist-packages (from requests<3,>=2.21.0->tensorflow) (2024.8.30)\n",
            "Requirement already satisfied: markdown>=2.6.8 in /usr/local/lib/python3.10/dist-packages (from tensorboard<2.18,>=2.17->tensorflow) (3.7)\n",
            "Requirement already satisfied: tensorboard-data-server<0.8.0,>=0.7.0 in /usr/local/lib/python3.10/dist-packages (from tensorboard<2.18,>=2.17->tensorflow) (0.7.2)\n",
            "Requirement already satisfied: werkzeug>=1.0.1 in /usr/local/lib/python3.10/dist-packages (from tensorboard<2.18,>=2.17->tensorflow) (3.1.3)\n",
            "Requirement already satisfied: MarkupSafe>=2.1.1 in /usr/local/lib/python3.10/dist-packages (from werkzeug>=1.0.1->tensorboard<2.18,>=2.17->tensorflow) (3.0.2)\n",
            "Requirement already satisfied: markdown-it-py>=2.2.0 in /usr/local/lib/python3.10/dist-packages (from rich->keras>=3.2.0->tensorflow) (3.0.0)\n",
            "Requirement already satisfied: pygments<3.0.0,>=2.13.0 in /usr/local/lib/python3.10/dist-packages (from rich->keras>=3.2.0->tensorflow) (2.18.0)\n",
            "Requirement already satisfied: mdurl~=0.1 in /usr/local/lib/python3.10/dist-packages (from markdown-it-py>=2.2.0->rich->keras>=3.2.0->tensorflow) (0.1.2)\n"
          ]
        }
      ],
      "execution_count": 10
    },
    {
      "cell_type": "code",
      "source": [
        "import re\n",
        "import wordninja\n",
        "\n",
        "def preprocess_text(text):\n",
        "    # 1 lowercase\n",
        "    text = text.lower()\n",
        "    # 2 \\n\n",
        "    text = text.replace('\\n', ' ')\n",
        "    # 3 special chars and punctuations\n",
        "    text = re.sub(r'[^\\w\\s\\d]', '', text)\n",
        "    # 4 WordNinja to any word of length > 10\n",
        "    text = ' '.join([\n",
        "        ' '.join(wordninja.split(word)) if len(word) > 10 else word\n",
        "        for word in text.split()\n",
        "    ])\n",
        "    return text"
      ],
      "metadata": {
        "trusted": true,
        "execution": {
          "iopub.status.busy": "2024-12-14T15:08:28.257973Z",
          "iopub.execute_input": "2024-12-14T15:08:28.258854Z",
          "iopub.status.idle": "2024-12-14T15:08:28.366915Z",
          "shell.execute_reply.started": "2024-12-14T15:08:28.258819Z",
          "shell.execute_reply": "2024-12-14T15:08:28.366257Z"
        },
        "id": "q7zhYu1SCwqk"
      },
      "outputs": [],
      "execution_count": 11
    },
    {
      "cell_type": "code",
      "source": [
        "train['Discussion'] = train['Discussion'].apply(preprocess_text)\n",
        "test['Discussion'] = test['Discussion'].apply(preprocess_text)"
      ],
      "metadata": {
        "trusted": true,
        "execution": {
          "iopub.status.busy": "2024-12-14T15:08:43.072119Z",
          "iopub.execute_input": "2024-12-14T15:08:43.072471Z",
          "iopub.status.idle": "2024-12-14T15:08:51.871411Z",
          "shell.execute_reply.started": "2024-12-14T15:08:43.072442Z",
          "shell.execute_reply": "2024-12-14T15:08:51.870483Z"
        },
        "id": "XQk-ko4OCwqk"
      },
      "outputs": [],
      "execution_count": 12
    },
    {
      "cell_type": "code",
      "source": [
        "train['Discussion'].iloc[0]"
      ],
      "metadata": {
        "trusted": true,
        "execution": {
          "iopub.status.busy": "2024-12-14T15:09:09.524371Z",
          "iopub.execute_input": "2024-12-14T15:09:09.525362Z",
          "iopub.status.idle": "2024-12-14T15:09:09.530945Z",
          "shell.execute_reply.started": "2024-12-14T15:09:09.525313Z",
          "shell.execute_reply": "2024-12-14T15:09:09.530280Z"
        },
        "id": "XrqQjZFuCwql",
        "outputId": "2cea0813-a9ee-4a68-d853-a382b51112bc",
        "colab": {
          "base_uri": "https://localhost:8080/",
          "height": 53
        }
      },
      "outputs": [
        {
          "output_type": "execute_result",
          "data": {
            "text/plain": [
              "'without sitting down and doing it manually you might try some scheduling software there are several here is one that you can download i havent tried it but it seems to do the job nn http www download com the league system pro 30007427 410505040 html tag pdp prod'"
            ],
            "application/vnd.google.colaboratory.intrinsic+json": {
              "type": "string"
            }
          },
          "metadata": {},
          "execution_count": 13
        }
      ],
      "execution_count": 13
    },
    {
      "cell_type": "code",
      "source": [
        "test['Discussion'].iloc[281]"
      ],
      "metadata": {
        "trusted": true,
        "execution": {
          "iopub.status.busy": "2024-12-14T15:13:49.875154Z",
          "iopub.execute_input": "2024-12-14T15:13:49.875912Z",
          "iopub.status.idle": "2024-12-14T15:13:49.881358Z",
          "shell.execute_reply.started": "2024-12-14T15:13:49.875880Z",
          "shell.execute_reply": "2024-12-14T15:13:49.880532Z"
        },
        "id": "EeafRsXzCwql",
        "outputId": "ee550e3e-c765-4043-afd7-0cf304f7aba5",
        "colab": {
          "base_uri": "https://localhost:8080/",
          "height": 35
        }
      },
      "outputs": [
        {
          "output_type": "execute_result",
          "data": {
            "text/plain": [
              "'http www x rates com d usd mxn graph 120 html'"
            ],
            "application/vnd.google.colaboratory.intrinsic+json": {
              "type": "string"
            }
          },
          "metadata": {},
          "execution_count": 14
        }
      ],
      "execution_count": 14
    },
    {
      "cell_type": "code",
      "source": [
        "remove_words = [\"http\", \"www\", \"com\"]\n",
        "\n",
        "def remove_specific_words(text):\n",
        "    filtered_text = ' '.join([word for word in text.split() if word not in remove_words])\n",
        "    return filtered_text\n",
        "\n",
        "\n",
        "train['Discussion'] = train['Discussion'].apply(remove_specific_words)\n",
        "test['Discussion'] = test['Discussion'].apply(remove_specific_words)\n"
      ],
      "metadata": {
        "trusted": true,
        "execution": {
          "iopub.status.busy": "2024-12-14T15:14:08.299631Z",
          "iopub.execute_input": "2024-12-14T15:14:08.299932Z",
          "iopub.status.idle": "2024-12-14T15:14:08.600402Z",
          "shell.execute_reply.started": "2024-12-14T15:14:08.299908Z",
          "shell.execute_reply": "2024-12-14T15:14:08.599707Z"
        },
        "id": "FXQO3Fa1Cwqm"
      },
      "outputs": [],
      "execution_count": 15
    },
    {
      "cell_type": "code",
      "source": [
        "print(train['Discussion'].iloc[0])\n",
        "print(\"......................................................................................\")\n",
        "print(test['Discussion'].iloc[281])"
      ],
      "metadata": {
        "trusted": true,
        "execution": {
          "iopub.status.busy": "2024-12-14T15:15:03.722546Z",
          "iopub.execute_input": "2024-12-14T15:15:03.723366Z",
          "iopub.status.idle": "2024-12-14T15:15:03.728192Z",
          "shell.execute_reply.started": "2024-12-14T15:15:03.723325Z",
          "shell.execute_reply": "2024-12-14T15:15:03.727283Z"
        },
        "id": "oiL4xyiKCwqm",
        "outputId": "bb187faf-991d-4f8b-98c6-73a796600f91",
        "colab": {
          "base_uri": "https://localhost:8080/"
        }
      },
      "outputs": [
        {
          "output_type": "stream",
          "name": "stdout",
          "text": [
            "without sitting down and doing it manually you might try some scheduling software there are several here is one that you can download i havent tried it but it seems to do the job nn download the league system pro 30007427 410505040 html tag pdp prod\n",
            "......................................................................................\n",
            "x rates d usd mxn graph 120 html\n"
          ]
        }
      ],
      "execution_count": 16
    },
    {
      "cell_type": "code",
      "source": [
        "import numpy as np\n",
        "from sklearn.model_selection import train_test_split\n",
        "from tensorflow.keras.preprocessing.text import Tokenizer\n",
        "from tensorflow.keras.preprocessing.sequence import pad_sequences\n",
        "from tensorflow.keras.models import Sequential\n",
        "from tensorflow.keras.layers import Embedding, LSTM, Dense, Dropout, SpatialDropout1D, Bidirectional\n",
        "from tensorflow.keras.utils import to_categorical\n",
        "\n",
        "# concatinating the 2 columns for word embedding (this stratigy achived the highest acc)\n",
        "combined = pd.concat([train['Discussion'], test['Discussion']], axis=0)\n",
        "\n",
        "tokenizer = Tokenizer()\n",
        "tokenizer.fit_on_texts(combined)\n",
        "\n",
        "X_train_seq = tokenizer.texts_to_sequences(train['Discussion'])\n",
        "X_test_seq = tokenizer.texts_to_sequences(test['Discussion'])\n",
        "\n",
        "\n",
        "max_seq_length = 250\n",
        "X_train_padded = pad_sequences(X_train_seq, maxlen=max_seq_length, padding='post')\n",
        "X_test_padded = pad_sequences(X_test_seq, maxlen=max_seq_length, padding='post')\n",
        "\n",
        "# encoding\n",
        "y_train = to_categorical(train['Category'].values)\n",
        "\n",
        "# train_test split\n",
        "X_train_final, X_val, y_train_final, y_val = train_test_split(\n",
        "    X_train_padded, y_train, test_size=0.2, random_state=42, stratify=train['Category']\n",
        ")"
      ],
      "metadata": {
        "trusted": true,
        "execution": {
          "iopub.status.busy": "2024-12-14T15:17:27.990252Z",
          "iopub.execute_input": "2024-12-14T15:17:27.990879Z",
          "iopub.status.idle": "2024-12-14T15:17:41.894264Z",
          "shell.execute_reply.started": "2024-12-14T15:17:27.990848Z",
          "shell.execute_reply": "2024-12-14T15:17:41.893319Z"
        },
        "id": "8dk6jp1jCwqm"
      },
      "outputs": [],
      "execution_count": 17
    },
    {
      "cell_type": "code",
      "source": [
        "from tensorflow.keras.models import Sequential\n",
        "from tensorflow.keras.layers import Embedding, Conv1D, MaxPooling1D, GlobalMaxPooling1D, Dense, Dropout\n",
        "from tensorflow.keras.callbacks import EarlyStopping\n",
        "\n",
        "# Define CNN Model\n",
        "vocab_size = len(tokenizer.word_index) + 1\n",
        "embedding_dim = 128\n",
        "\n",
        "model = Sequential([\n",
        "    # Embedding Layer\n",
        "    Embedding(input_dim=vocab_size, output_dim=embedding_dim, input_length=max_seq_length),\n",
        "\n",
        "    # Convolutional Layer\n",
        "    Conv1D(filters=128, kernel_size=5, activation='relu', padding='same'),\n",
        "    MaxPooling1D(pool_size=2),\n",
        "\n",
        "    # Add another Convolutional Layer for deeper features (optional)\n",
        "    Conv1D(filters=64, kernel_size=3, activation='relu', padding='same'),\n",
        "    MaxPooling1D(pool_size=2),\n",
        "\n",
        "    # Global Pooling Layer\n",
        "    GlobalMaxPooling1D(),\n",
        "\n",
        "    # Fully Connected Dense Layer\n",
        "    Dense(64, activation='relu'),\n",
        "    Dropout(0.4),\n",
        "\n",
        "    # Output Layer\n",
        "    Dense(y_train_final.shape[1], activation='softmax')  # Assuming one-hot encoded labels\n",
        "])\n",
        "\n",
        "# Compile the model\n",
        "model.compile(optimizer='adam', loss='categorical_crossentropy', metrics=['accuracy'])\n",
        "\n",
        "# Add Early Stopping to prevent overfitting\n",
        "early_stopping = EarlyStopping(monitor='val_loss', patience=3, restore_best_weights=True)\n",
        "\n",
        "# Train the model\n",
        "batch_size = 64\n",
        "epochs = 20\n",
        "\n",
        "history = model.fit(\n",
        "    X_train_final, y_train_final,\n",
        "    validation_data=(X_val, y_val),\n",
        "    batch_size=batch_size,\n",
        "    epochs=epochs,\n",
        "    # callbacks=[early_stopping],\n",
        "    verbose=1\n",
        ")\n"
      ],
      "metadata": {
        "trusted": true,
        "execution": {
          "iopub.status.busy": "2024-12-14T15:18:30.462145Z",
          "iopub.execute_input": "2024-12-14T15:18:30.462744Z",
          "iopub.status.idle": "2024-12-14T16:57:08.083181Z",
          "shell.execute_reply.started": "2024-12-14T15:18:30.462710Z",
          "shell.execute_reply": "2024-12-14T16:57:08.082256Z"
        },
        "id": "K2yGz8yICwqm",
        "outputId": "1af97603-2c15-497d-9448-97a153576648",
        "colab": {
          "base_uri": "https://localhost:8080/"
        }
      },
      "outputs": [
        {
          "output_type": "stream",
          "name": "stdout",
          "text": [
            "Epoch 1/20\n"
          ]
        },
        {
          "output_type": "stream",
          "name": "stderr",
          "text": [
            "/usr/local/lib/python3.10/dist-packages/keras/src/layers/core/embedding.py:90: UserWarning: Argument `input_length` is deprecated. Just remove it.\n",
            "  warnings.warn(\n"
          ]
        },
        {
          "output_type": "stream",
          "name": "stdout",
          "text": [
            "\u001b[1m309/309\u001b[0m \u001b[32m━━━━━━━━━━━━━━━━━━━━\u001b[0m\u001b[37m\u001b[0m \u001b[1m132s\u001b[0m 418ms/step - accuracy: 0.3113 - loss: 1.4927 - val_accuracy: 0.6359 - val_loss: 0.9600\n",
            "Epoch 2/20\n",
            "\u001b[1m309/309\u001b[0m \u001b[32m━━━━━━━━━━━━━━━━━━━━\u001b[0m\u001b[37m\u001b[0m \u001b[1m133s\u001b[0m 430ms/step - accuracy: 0.7281 - loss: 0.7788 - val_accuracy: 0.6748 - val_loss: 0.8763\n",
            "Epoch 3/20\n",
            "\u001b[1m309/309\u001b[0m \u001b[32m━━━━━━━━━━━━━━━━━━━━\u001b[0m\u001b[37m\u001b[0m \u001b[1m131s\u001b[0m 424ms/step - accuracy: 0.8451 - loss: 0.4673 - val_accuracy: 0.6613 - val_loss: 0.9650\n",
            "Epoch 4/20\n",
            "\u001b[1m309/309\u001b[0m \u001b[32m━━━━━━━━━━━━━━━━━━━━\u001b[0m\u001b[37m\u001b[0m \u001b[1m131s\u001b[0m 423ms/step - accuracy: 0.9163 - loss: 0.2704 - val_accuracy: 0.6554 - val_loss: 1.2465\n",
            "Epoch 5/20\n",
            "\u001b[1m309/309\u001b[0m \u001b[32m━━━━━━━━━━━━━━━━━━━━\u001b[0m\u001b[37m\u001b[0m \u001b[1m131s\u001b[0m 425ms/step - accuracy: 0.9467 - loss: 0.1699 - val_accuracy: 0.6452 - val_loss: 1.3813\n",
            "Epoch 6/20\n",
            "\u001b[1m309/309\u001b[0m \u001b[32m━━━━━━━━━━━━━━━━━━━━\u001b[0m\u001b[37m\u001b[0m \u001b[1m164s\u001b[0m 498ms/step - accuracy: 0.9638 - loss: 0.1137 - val_accuracy: 0.6491 - val_loss: 1.5561\n",
            "Epoch 7/20\n",
            "\u001b[1m309/309\u001b[0m \u001b[32m━━━━━━━━━━━━━━━━━━━━\u001b[0m\u001b[37m\u001b[0m \u001b[1m137s\u001b[0m 442ms/step - accuracy: 0.9737 - loss: 0.0811 - val_accuracy: 0.6420 - val_loss: 1.9403\n",
            "Epoch 8/20\n",
            "\u001b[1m309/309\u001b[0m \u001b[32m━━━━━━━━━━━━━━━━━━━━\u001b[0m\u001b[37m\u001b[0m \u001b[1m138s\u001b[0m 430ms/step - accuracy: 0.9761 - loss: 0.0766 - val_accuracy: 0.6432 - val_loss: 1.9523\n",
            "Epoch 9/20\n",
            "\u001b[1m309/309\u001b[0m \u001b[32m━━━━━━━━━━━━━━━━━━━━\u001b[0m\u001b[37m\u001b[0m \u001b[1m138s\u001b[0m 419ms/step - accuracy: 0.9835 - loss: 0.0534 - val_accuracy: 0.6462 - val_loss: 2.2154\n",
            "Epoch 10/20\n",
            "\u001b[1m309/309\u001b[0m \u001b[32m━━━━━━━━━━━━━━━━━━━━\u001b[0m\u001b[37m\u001b[0m \u001b[1m144s\u001b[0m 426ms/step - accuracy: 0.9874 - loss: 0.0386 - val_accuracy: 0.6363 - val_loss: 2.2223\n",
            "Epoch 11/20\n",
            "\u001b[1m309/309\u001b[0m \u001b[32m━━━━━━━━━━━━━━━━━━━━\u001b[0m\u001b[37m\u001b[0m \u001b[1m141s\u001b[0m 423ms/step - accuracy: 0.9848 - loss: 0.0440 - val_accuracy: 0.6448 - val_loss: 2.4702\n",
            "Epoch 12/20\n",
            "\u001b[1m309/309\u001b[0m \u001b[32m━━━━━━━━━━━━━━━━━━━━\u001b[0m\u001b[37m\u001b[0m \u001b[1m131s\u001b[0m 422ms/step - accuracy: 0.9868 - loss: 0.0378 - val_accuracy: 0.6444 - val_loss: 2.2960\n",
            "Epoch 13/20\n",
            "\u001b[1m309/309\u001b[0m \u001b[32m━━━━━━━━━━━━━━━━━━━━\u001b[0m\u001b[37m\u001b[0m \u001b[1m142s\u001b[0m 424ms/step - accuracy: 0.9863 - loss: 0.0454 - val_accuracy: 0.6377 - val_loss: 2.7474\n",
            "Epoch 14/20\n",
            "\u001b[1m309/309\u001b[0m \u001b[32m━━━━━━━━━━━━━━━━━━━━\u001b[0m\u001b[37m\u001b[0m \u001b[1m134s\u001b[0m 435ms/step - accuracy: 0.9875 - loss: 0.0354 - val_accuracy: 0.6306 - val_loss: 2.8504\n",
            "Epoch 15/20\n",
            "\u001b[1m309/309\u001b[0m \u001b[32m━━━━━━━━━━━━━━━━━━━━\u001b[0m\u001b[37m\u001b[0m \u001b[1m141s\u001b[0m 430ms/step - accuracy: 0.9882 - loss: 0.0363 - val_accuracy: 0.6434 - val_loss: 2.7784\n",
            "Epoch 16/20\n",
            "\u001b[1m309/309\u001b[0m \u001b[32m━━━━━━━━━━━━━━━━━━━━\u001b[0m\u001b[37m\u001b[0m \u001b[1m142s\u001b[0m 431ms/step - accuracy: 0.9905 - loss: 0.0257 - val_accuracy: 0.6377 - val_loss: 3.0131\n",
            "Epoch 17/20\n",
            "\u001b[1m309/309\u001b[0m \u001b[32m━━━━━━━━━━━━━━━━━━━━\u001b[0m\u001b[37m\u001b[0m \u001b[1m138s\u001b[0m 417ms/step - accuracy: 0.9908 - loss: 0.0286 - val_accuracy: 0.6329 - val_loss: 3.1892\n",
            "Epoch 18/20\n",
            "\u001b[1m309/309\u001b[0m \u001b[32m━━━━━━━━━━━━━━━━━━━━\u001b[0m\u001b[37m\u001b[0m \u001b[1m144s\u001b[0m 423ms/step - accuracy: 0.9891 - loss: 0.0325 - val_accuracy: 0.6331 - val_loss: 3.0308\n",
            "Epoch 19/20\n",
            "\u001b[1m309/309\u001b[0m \u001b[32m━━━━━━━━━━━━━━━━━━━━\u001b[0m\u001b[37m\u001b[0m \u001b[1m149s\u001b[0m 482ms/step - accuracy: 0.9904 - loss: 0.0261 - val_accuracy: 0.6306 - val_loss: 3.1119\n",
            "Epoch 20/20\n",
            "\u001b[1m309/309\u001b[0m \u001b[32m━━━━━━━━━━━━━━━━━━━━\u001b[0m\u001b[37m\u001b[0m \u001b[1m205s\u001b[0m 493ms/step - accuracy: 0.9888 - loss: 0.0306 - val_accuracy: 0.6347 - val_loss: 3.0362\n"
          ]
        }
      ],
      "execution_count": 18
    },
    {
      "cell_type": "code",
      "source": [
        "test_predictions = model.predict(X_test_padded)\n",
        "test['Category'] = np.argmax(test_predictions, axis=1)\n",
        "\n",
        "\n",
        "submission_df = test[['SampleID', 'Category']]\n",
        "submission_df.to_csv('LSTM_submission.csv', index=False)"
      ],
      "metadata": {
        "trusted": true,
        "execution": {
          "iopub.status.busy": "2024-12-14T16:57:24.025339Z",
          "iopub.execute_input": "2024-12-14T16:57:24.025668Z",
          "iopub.status.idle": "2024-12-14T16:58:28.656385Z",
          "shell.execute_reply.started": "2024-12-14T16:57:24.025639Z",
          "shell.execute_reply": "2024-12-14T16:58:28.655739Z"
        },
        "id": "SbpFbHMxCwqn",
        "outputId": "b617de77-12c6-4234-b33a-0c2eeb558b05",
        "colab": {
          "base_uri": "https://localhost:8080/"
        }
      },
      "outputs": [
        {
          "output_type": "stream",
          "name": "stdout",
          "text": [
            "\u001b[1m330/330\u001b[0m \u001b[32m━━━━━━━━━━━━━━━━━━━━\u001b[0m\u001b[37m\u001b[0m \u001b[1m14s\u001b[0m 41ms/step\n"
          ]
        }
      ],
      "execution_count": 19
    },
    {
      "cell_type": "code",
      "source": [
        "from google.colab import files\n",
        "\n",
        "# Save the model first\n",
        "model.save('CNN.h5')\n",
        "# Download the saved model file\n",
        "files.download('CNN.h5')\n"
      ],
      "metadata": {
        "colab": {
          "base_uri": "https://localhost:8080/",
          "height": 54
        },
        "id": "wtDfjT9vQ68c",
        "outputId": "ddea0e53-b837-40f8-875c-dd03677b3358"
      },
      "execution_count": 23,
      "outputs": [
        {
          "output_type": "stream",
          "name": "stderr",
          "text": [
            "WARNING:absl:You are saving your model as an HDF5 file via `model.save()` or `keras.saving.save_model(model)`. This file format is considered legacy. We recommend using instead the native Keras format, e.g. `model.save('my_model.keras')` or `keras.saving.save_model(model, 'my_model.keras')`. \n"
          ]
        },
        {
          "output_type": "display_data",
          "data": {
            "text/plain": [
              "<IPython.core.display.Javascript object>"
            ],
            "application/javascript": [
              "\n",
              "    async function download(id, filename, size) {\n",
              "      if (!google.colab.kernel.accessAllowed) {\n",
              "        return;\n",
              "      }\n",
              "      const div = document.createElement('div');\n",
              "      const label = document.createElement('label');\n",
              "      label.textContent = `Downloading \"${filename}\": `;\n",
              "      div.appendChild(label);\n",
              "      const progress = document.createElement('progress');\n",
              "      progress.max = size;\n",
              "      div.appendChild(progress);\n",
              "      document.body.appendChild(div);\n",
              "\n",
              "      const buffers = [];\n",
              "      let downloaded = 0;\n",
              "\n",
              "      const channel = await google.colab.kernel.comms.open(id);\n",
              "      // Send a message to notify the kernel that we're ready.\n",
              "      channel.send({})\n",
              "\n",
              "      for await (const message of channel.messages) {\n",
              "        // Send a message to notify the kernel that we're ready.\n",
              "        channel.send({})\n",
              "        if (message.buffers) {\n",
              "          for (const buffer of message.buffers) {\n",
              "            buffers.push(buffer);\n",
              "            downloaded += buffer.byteLength;\n",
              "            progress.value = downloaded;\n",
              "          }\n",
              "        }\n",
              "      }\n",
              "      const blob = new Blob(buffers, {type: 'application/binary'});\n",
              "      const a = document.createElement('a');\n",
              "      a.href = window.URL.createObjectURL(blob);\n",
              "      a.download = filename;\n",
              "      div.appendChild(a);\n",
              "      a.click();\n",
              "      div.remove();\n",
              "    }\n",
              "  "
            ]
          },
          "metadata": {}
        },
        {
          "output_type": "display_data",
          "data": {
            "text/plain": [
              "<IPython.core.display.Javascript object>"
            ],
            "application/javascript": [
              "download(\"download_c55810b5-b2c1-44cb-a151-4a1ded8aeb0f\", \"CNN.h5\", 131319320)"
            ]
          },
          "metadata": {}
        }
      ]
    }
  ]
}