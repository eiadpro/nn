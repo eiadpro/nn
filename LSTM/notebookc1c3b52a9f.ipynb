{
  "metadata": {
    "kernelspec": {
      "language": "python",
      "display_name": "Python 3",
      "name": "python3"
    },
    "language_info": {
      "name": "python",
      "version": "3.10.14",
      "mimetype": "text/x-python",
      "codemirror_mode": {
        "name": "ipython",
        "version": 3
      },
      "pygments_lexer": "ipython3",
      "nbconvert_exporter": "python",
      "file_extension": ".py"
    },
    "kaggle": {
      "accelerator": "nvidiaTeslaT4",
      "dataSources": [
        {
          "sourceId": 10199933,
          "sourceType": "datasetVersion",
          "datasetId": 6302864
        }
      ],
      "dockerImageVersionId": 30805,
      "isInternetEnabled": true,
      "language": "python",
      "sourceType": "notebook",
      "isGpuEnabled": true
    },
    "colab": {
      "provenance": []
    }
  },
  "nbformat_minor": 0,
  "nbformat": 4,
  "cells": [
    {
      "cell_type": "code",
      "source": [
        "import pandas as pd\n",
        "train = pd.read_csv('/kaggle/input/data-1/train.csv')\n",
        "test = pd.read_csv('/kaggle/input/data-1/test.csv')"
      ],
      "metadata": {
        "_uuid": "8f2839f25d086af736a60e9eeb907d3b93b6e0e5",
        "_cell_guid": "b1076dfc-b9ad-4769-8c92-a6c4dae69d19",
        "trusted": true,
        "execution": {
          "iopub.status.busy": "2024-12-14T15:05:23.588502Z",
          "iopub.execute_input": "2024-12-14T15:05:23.589394Z",
          "iopub.status.idle": "2024-12-14T15:05:23.967438Z",
          "shell.execute_reply.started": "2024-12-14T15:05:23.589360Z",
          "shell.execute_reply": "2024-12-14T15:05:23.966507Z"
        },
        "id": "yN5wncePCwqf"
      },
      "outputs": [],
      "execution_count": null
    },
    {
      "cell_type": "code",
      "source": [
        "train['Discussion'].isnull().sum()"
      ],
      "metadata": {
        "trusted": true,
        "execution": {
          "iopub.status.busy": "2024-12-14T15:05:47.454697Z",
          "iopub.execute_input": "2024-12-14T15:05:47.455020Z",
          "iopub.status.idle": "2024-12-14T15:05:47.469062Z",
          "shell.execute_reply.started": "2024-12-14T15:05:47.454993Z",
          "shell.execute_reply": "2024-12-14T15:05:47.468253Z"
        },
        "id": "PSh0jqEKCwqg",
        "outputId": "0d24b329-63ce-4f4a-9322-cd2ca56e43c5"
      },
      "outputs": [
        {
          "execution_count": 3,
          "output_type": "execute_result",
          "data": {
            "text/plain": "343"
          },
          "metadata": {}
        }
      ],
      "execution_count": null
    },
    {
      "cell_type": "code",
      "source": [
        "train = train.dropna(subset=['Discussion'])"
      ],
      "metadata": {
        "trusted": true,
        "execution": {
          "iopub.status.busy": "2024-12-14T15:06:07.354596Z",
          "iopub.execute_input": "2024-12-14T15:06:07.354915Z",
          "iopub.status.idle": "2024-12-14T15:06:07.370368Z",
          "shell.execute_reply.started": "2024-12-14T15:06:07.354888Z",
          "shell.execute_reply": "2024-12-14T15:06:07.369390Z"
        },
        "id": "lGKSd-7rCwqh"
      },
      "outputs": [],
      "execution_count": null
    },
    {
      "cell_type": "code",
      "source": [
        "train['Discussion'].isnull().sum()          # should be 0"
      ],
      "metadata": {
        "trusted": true,
        "execution": {
          "iopub.status.busy": "2024-12-14T15:06:10.882878Z",
          "iopub.execute_input": "2024-12-14T15:06:10.883490Z",
          "iopub.status.idle": "2024-12-14T15:06:10.891823Z",
          "shell.execute_reply.started": "2024-12-14T15:06:10.883456Z",
          "shell.execute_reply": "2024-12-14T15:06:10.890920Z"
        },
        "id": "NltHBhVHCwqi",
        "outputId": "1605c38c-6c71-46e2-84df-c1b9f6962a38"
      },
      "outputs": [
        {
          "execution_count": 5,
          "output_type": "execute_result",
          "data": {
            "text/plain": "0"
          },
          "metadata": {}
        }
      ],
      "execution_count": null
    },
    {
      "cell_type": "code",
      "source": [
        "file = open('/kaggle/input/data-1/ClassesMap.txt','r')\n",
        "file2 = file.read()\n",
        "file.close()\n",
        "file2"
      ],
      "metadata": {
        "trusted": true,
        "execution": {
          "iopub.status.busy": "2024-12-14T15:06:29.391818Z",
          "iopub.execute_input": "2024-12-14T15:06:29.392495Z",
          "iopub.status.idle": "2024-12-14T15:06:29.401111Z",
          "shell.execute_reply.started": "2024-12-14T15:06:29.392463Z",
          "shell.execute_reply": "2024-12-14T15:06:29.400444Z"
        },
        "id": "gL4btS_-Cwqi",
        "outputId": "4dbb6afe-09f7-4eab-cc9f-250bd4c6bd7e"
      },
      "outputs": [
        {
          "execution_count": 6,
          "output_type": "execute_result",
          "data": {
            "text/plain": "'Politics --> 0\\nSports --> 1\\nMedia --> 2\\nMarket & Economy --> 3\\nSTEM --> 4'"
          },
          "metadata": {}
        }
      ],
      "execution_count": null
    },
    {
      "cell_type": "code",
      "source": [
        "train['Category'].replace({\n",
        "    'Politics': 0,\n",
        "    'Sports': 1,\n",
        "    'Media': 2,\n",
        "    'Market & Economy': 3,\n",
        "    'STEM': 4\n",
        "}, inplace=True)"
      ],
      "metadata": {
        "trusted": true,
        "execution": {
          "iopub.status.busy": "2024-12-14T15:06:36.422735Z",
          "iopub.execute_input": "2024-12-14T15:06:36.423051Z",
          "iopub.status.idle": "2024-12-14T15:06:36.439328Z",
          "shell.execute_reply.started": "2024-12-14T15:06:36.423024Z",
          "shell.execute_reply": "2024-12-14T15:06:36.438424Z"
        },
        "id": "INNuJif8Cwqi",
        "outputId": "921ee44d-6c18-4440-e8b2-9daf164799b0"
      },
      "outputs": [
        {
          "name": "stderr",
          "text": "/tmp/ipykernel_23/3972491123.py:1: FutureWarning: A value is trying to be set on a copy of a DataFrame or Series through chained assignment using an inplace method.\nThe behavior will change in pandas 3.0. This inplace method will never work because the intermediate object on which we are setting values always behaves as a copy.\n\nFor example, when doing 'df[col].method(value, inplace=True)', try using 'df.method({col: value}, inplace=True)' or df[col] = df[col].method(value) instead, to perform the operation inplace on the original object.\n\n\n  train['Category'].replace({\n/tmp/ipykernel_23/3972491123.py:1: FutureWarning: Downcasting behavior in `replace` is deprecated and will be removed in a future version. To retain the old behavior, explicitly call `result.infer_objects(copy=False)`. To opt-in to the future behavior, set `pd.set_option('future.no_silent_downcasting', True)`\n  train['Category'].replace({\n",
          "output_type": "stream"
        }
      ],
      "execution_count": null
    },
    {
      "cell_type": "code",
      "source": [
        "train['Category'].head(7)"
      ],
      "metadata": {
        "trusted": true,
        "execution": {
          "iopub.status.busy": "2024-12-14T15:06:50.317649Z",
          "iopub.execute_input": "2024-12-14T15:06:50.317957Z",
          "iopub.status.idle": "2024-12-14T15:06:50.324446Z",
          "shell.execute_reply.started": "2024-12-14T15:06:50.317930Z",
          "shell.execute_reply": "2024-12-14T15:06:50.323389Z"
        },
        "id": "rM1djArWCwqj",
        "outputId": "9601c30b-0d2d-4be8-9b0f-bac4b24f8c25"
      },
      "outputs": [
        {
          "execution_count": 8,
          "output_type": "execute_result",
          "data": {
            "text/plain": "0    1\n1    4\n2    4\n3    1\n4    0\n5    2\n6    2\nName: Category, dtype: int64"
          },
          "metadata": {}
        }
      ],
      "execution_count": null
    },
    {
      "cell_type": "code",
      "source": [
        "! pip install wordninja"
      ],
      "metadata": {
        "trusted": true,
        "execution": {
          "iopub.status.busy": "2024-12-14T15:07:27.322130Z",
          "iopub.execute_input": "2024-12-14T15:07:27.322962Z",
          "iopub.status.idle": "2024-12-14T15:07:38.715719Z",
          "shell.execute_reply.started": "2024-12-14T15:07:27.322929Z",
          "shell.execute_reply": "2024-12-14T15:07:38.714898Z"
        },
        "id": "4wZ2avV7Cwqj",
        "outputId": "4903a61d-8e97-4003-e929-19195f565414"
      },
      "outputs": [
        {
          "name": "stdout",
          "text": "Collecting wordninja\n  Downloading wordninja-2.0.0.tar.gz (541 kB)\n\u001b[2K     \u001b[90m━━━━━━━━━━━━━━━━━━━━━━━━━━━━━━━━━━━━━━━\u001b[0m \u001b[32m541.6/541.6 kB\u001b[0m \u001b[31m9.7 MB/s\u001b[0m eta \u001b[36m0:00:00\u001b[0ma \u001b[36m0:00:01\u001b[0m\n\u001b[?25h  Preparing metadata (setup.py) ... \u001b[?25ldone\n\u001b[?25hBuilding wheels for collected packages: wordninja\n  Building wheel for wordninja (setup.py) ... \u001b[?25ldone\n\u001b[?25h  Created wheel for wordninja: filename=wordninja-2.0.0-py3-none-any.whl size=541530 sha256=5fe9833139a9d46aa99e1f34be6796dac5ad355dbf6807fc1c0a1a8e1c6dde09\n  Stored in directory: /root/.cache/pip/wheels/aa/44/3a/f2a5c1859b8b541ded969b4cd12d0a58897f12408f4f51e084\nSuccessfully built wordninja\nInstalling collected packages: wordninja\nSuccessfully installed wordninja-2.0.0\n",
          "output_type": "stream"
        }
      ],
      "execution_count": null
    },
    {
      "cell_type": "code",
      "source": [
        "! pip install tensorflow"
      ],
      "metadata": {
        "trusted": true,
        "execution": {
          "iopub.status.busy": "2024-12-14T15:07:39.297285Z",
          "iopub.execute_input": "2024-12-14T15:07:39.297631Z",
          "iopub.status.idle": "2024-12-14T15:07:47.501224Z",
          "shell.execute_reply.started": "2024-12-14T15:07:39.297602Z",
          "shell.execute_reply": "2024-12-14T15:07:47.499785Z"
        },
        "id": "dx37y3h3Cwqj",
        "outputId": "741d020f-b376-49b1-e0d0-aee7e86fe645"
      },
      "outputs": [
        {
          "name": "stdout",
          "text": "Requirement already satisfied: tensorflow in /opt/conda/lib/python3.10/site-packages (2.16.1)\nRequirement already satisfied: absl-py>=1.0.0 in /opt/conda/lib/python3.10/site-packages (from tensorflow) (1.4.0)\nRequirement already satisfied: astunparse>=1.6.0 in /opt/conda/lib/python3.10/site-packages (from tensorflow) (1.6.3)\nRequirement already satisfied: flatbuffers>=23.5.26 in /opt/conda/lib/python3.10/site-packages (from tensorflow) (24.3.25)\nRequirement already satisfied: gast!=0.5.0,!=0.5.1,!=0.5.2,>=0.2.1 in /opt/conda/lib/python3.10/site-packages (from tensorflow) (0.5.4)\nRequirement already satisfied: google-pasta>=0.1.1 in /opt/conda/lib/python3.10/site-packages (from tensorflow) (0.2.0)\nRequirement already satisfied: h5py>=3.10.0 in /opt/conda/lib/python3.10/site-packages (from tensorflow) (3.11.0)\nRequirement already satisfied: libclang>=13.0.0 in /opt/conda/lib/python3.10/site-packages (from tensorflow) (18.1.1)\nRequirement already satisfied: ml-dtypes~=0.3.1 in /opt/conda/lib/python3.10/site-packages (from tensorflow) (0.3.2)\nRequirement already satisfied: opt-einsum>=2.3.2 in /opt/conda/lib/python3.10/site-packages (from tensorflow) (3.3.0)\nRequirement already satisfied: packaging in /opt/conda/lib/python3.10/site-packages (from tensorflow) (21.3)\nRequirement already satisfied: protobuf!=4.21.0,!=4.21.1,!=4.21.2,!=4.21.3,!=4.21.4,!=4.21.5,<5.0.0dev,>=3.20.3 in /opt/conda/lib/python3.10/site-packages (from tensorflow) (3.20.3)\nRequirement already satisfied: requests<3,>=2.21.0 in /opt/conda/lib/python3.10/site-packages (from tensorflow) (2.32.3)\nRequirement already satisfied: setuptools in /opt/conda/lib/python3.10/site-packages (from tensorflow) (70.0.0)\nRequirement already satisfied: six>=1.12.0 in /opt/conda/lib/python3.10/site-packages (from tensorflow) (1.16.0)\nRequirement already satisfied: termcolor>=1.1.0 in /opt/conda/lib/python3.10/site-packages (from tensorflow) (2.4.0)\nRequirement already satisfied: typing-extensions>=3.6.6 in /opt/conda/lib/python3.10/site-packages (from tensorflow) (4.12.2)\nRequirement already satisfied: wrapt>=1.11.0 in /opt/conda/lib/python3.10/site-packages (from tensorflow) (1.16.0)\nRequirement already satisfied: grpcio<2.0,>=1.24.3 in /opt/conda/lib/python3.10/site-packages (from tensorflow) (1.62.2)\nRequirement already satisfied: tensorboard<2.17,>=2.16 in /opt/conda/lib/python3.10/site-packages (from tensorflow) (2.16.2)\nRequirement already satisfied: keras>=3.0.0 in /opt/conda/lib/python3.10/site-packages (from tensorflow) (3.3.3)\nRequirement already satisfied: tensorflow-io-gcs-filesystem>=0.23.1 in /opt/conda/lib/python3.10/site-packages (from tensorflow) (0.37.0)\nRequirement already satisfied: numpy<2.0.0,>=1.23.5 in /opt/conda/lib/python3.10/site-packages (from tensorflow) (1.26.4)\nRequirement already satisfied: wheel<1.0,>=0.23.0 in /opt/conda/lib/python3.10/site-packages (from astunparse>=1.6.0->tensorflow) (0.43.0)\nRequirement already satisfied: rich in /opt/conda/lib/python3.10/site-packages (from keras>=3.0.0->tensorflow) (13.7.1)\nRequirement already satisfied: namex in /opt/conda/lib/python3.10/site-packages (from keras>=3.0.0->tensorflow) (0.0.8)\nRequirement already satisfied: optree in /opt/conda/lib/python3.10/site-packages (from keras>=3.0.0->tensorflow) (0.11.0)\nRequirement already satisfied: charset-normalizer<4,>=2 in /opt/conda/lib/python3.10/site-packages (from requests<3,>=2.21.0->tensorflow) (3.3.2)\nRequirement already satisfied: idna<4,>=2.5 in /opt/conda/lib/python3.10/site-packages (from requests<3,>=2.21.0->tensorflow) (3.7)\nRequirement already satisfied: urllib3<3,>=1.21.1 in /opt/conda/lib/python3.10/site-packages (from requests<3,>=2.21.0->tensorflow) (1.26.18)\nRequirement already satisfied: certifi>=2017.4.17 in /opt/conda/lib/python3.10/site-packages (from requests<3,>=2.21.0->tensorflow) (2024.6.2)\nRequirement already satisfied: markdown>=2.6.8 in /opt/conda/lib/python3.10/site-packages (from tensorboard<2.17,>=2.16->tensorflow) (3.6)\nRequirement already satisfied: tensorboard-data-server<0.8.0,>=0.7.0 in /opt/conda/lib/python3.10/site-packages (from tensorboard<2.17,>=2.16->tensorflow) (0.7.2)\nRequirement already satisfied: werkzeug>=1.0.1 in /opt/conda/lib/python3.10/site-packages (from tensorboard<2.17,>=2.16->tensorflow) (3.1.3)\nRequirement already satisfied: pyparsing!=3.0.5,>=2.0.2 in /opt/conda/lib/python3.10/site-packages (from packaging->tensorflow) (3.1.2)\nRequirement already satisfied: MarkupSafe>=2.1.1 in /opt/conda/lib/python3.10/site-packages (from werkzeug>=1.0.1->tensorboard<2.17,>=2.16->tensorflow) (2.1.5)\nRequirement already satisfied: markdown-it-py>=2.2.0 in /opt/conda/lib/python3.10/site-packages (from rich->keras>=3.0.0->tensorflow) (3.0.0)\nRequirement already satisfied: pygments<3.0.0,>=2.13.0 in /opt/conda/lib/python3.10/site-packages (from rich->keras>=3.0.0->tensorflow) (2.18.0)\nRequirement already satisfied: mdurl~=0.1 in /opt/conda/lib/python3.10/site-packages (from markdown-it-py>=2.2.0->rich->keras>=3.0.0->tensorflow) (0.1.2)\n",
          "output_type": "stream"
        }
      ],
      "execution_count": null
    },
    {
      "cell_type": "code",
      "source": [
        "import re\n",
        "import wordninja\n",
        "\n",
        "def preprocess_text(text):\n",
        "    # 1 lowercase\n",
        "    text = text.lower()\n",
        "    # 2 \\n\n",
        "    text = text.replace('\\n', ' ')\n",
        "    # 3 special chars and punctuations\n",
        "    text = re.sub(r'[^\\w\\s\\d]', '', text)\n",
        "    # 4 WordNinja to any word of length > 10\n",
        "    text = ' '.join([\n",
        "        ' '.join(wordninja.split(word)) if len(word) > 10 else word\n",
        "        for word in text.split()\n",
        "    ])\n",
        "    return text"
      ],
      "metadata": {
        "trusted": true,
        "execution": {
          "iopub.status.busy": "2024-12-14T15:08:28.257973Z",
          "iopub.execute_input": "2024-12-14T15:08:28.258854Z",
          "iopub.status.idle": "2024-12-14T15:08:28.366915Z",
          "shell.execute_reply.started": "2024-12-14T15:08:28.258819Z",
          "shell.execute_reply": "2024-12-14T15:08:28.366257Z"
        },
        "id": "q7zhYu1SCwqk"
      },
      "outputs": [],
      "execution_count": null
    },
    {
      "cell_type": "code",
      "source": [
        "train['Discussion'] = train['Discussion'].apply(preprocess_text)\n",
        "test['Discussion'] = test['Discussion'].apply(preprocess_text)"
      ],
      "metadata": {
        "trusted": true,
        "execution": {
          "iopub.status.busy": "2024-12-14T15:08:43.072119Z",
          "iopub.execute_input": "2024-12-14T15:08:43.072471Z",
          "iopub.status.idle": "2024-12-14T15:08:51.871411Z",
          "shell.execute_reply.started": "2024-12-14T15:08:43.072442Z",
          "shell.execute_reply": "2024-12-14T15:08:51.870483Z"
        },
        "id": "XQk-ko4OCwqk"
      },
      "outputs": [],
      "execution_count": null
    },
    {
      "cell_type": "code",
      "source": [
        "train['Discussion'].iloc[0]"
      ],
      "metadata": {
        "trusted": true,
        "execution": {
          "iopub.status.busy": "2024-12-14T15:09:09.524371Z",
          "iopub.execute_input": "2024-12-14T15:09:09.525362Z",
          "iopub.status.idle": "2024-12-14T15:09:09.530945Z",
          "shell.execute_reply.started": "2024-12-14T15:09:09.525313Z",
          "shell.execute_reply": "2024-12-14T15:09:09.530280Z"
        },
        "id": "XrqQjZFuCwql",
        "outputId": "97c261e0-5c73-4254-8658-269bcfef0795"
      },
      "outputs": [
        {
          "execution_count": 13,
          "output_type": "execute_result",
          "data": {
            "text/plain": "'without sitting down and doing it manually you might try some scheduling software there are several here is one that you can download i havent tried it but it seems to do the job nn http www download com the league system pro 30007427 410505040 html tag pdp prod'"
          },
          "metadata": {}
        }
      ],
      "execution_count": null
    },
    {
      "cell_type": "code",
      "source": [
        "test['Discussion'].iloc[281]"
      ],
      "metadata": {
        "trusted": true,
        "execution": {
          "iopub.status.busy": "2024-12-14T15:13:49.875154Z",
          "iopub.execute_input": "2024-12-14T15:13:49.875912Z",
          "iopub.status.idle": "2024-12-14T15:13:49.881358Z",
          "shell.execute_reply.started": "2024-12-14T15:13:49.875880Z",
          "shell.execute_reply": "2024-12-14T15:13:49.880532Z"
        },
        "id": "EeafRsXzCwql",
        "outputId": "9989903b-7e8c-4b77-959a-ae88c200a56c"
      },
      "outputs": [
        {
          "execution_count": 19,
          "output_type": "execute_result",
          "data": {
            "text/plain": "'http www x rates com d usd mxn graph 120 html'"
          },
          "metadata": {}
        }
      ],
      "execution_count": null
    },
    {
      "cell_type": "code",
      "source": [
        "remove_words = [\"http\", \"www\", \"com\"]\n",
        "\n",
        "def remove_specific_words(text):\n",
        "    filtered_text = ' '.join([word for word in text.split() if word not in remove_words])\n",
        "    return filtered_text\n",
        "\n",
        "\n",
        "train['Discussion'] = train['Discussion'].apply(remove_specific_words)\n",
        "test['Discussion'] = test['Discussion'].apply(remove_specific_words)\n"
      ],
      "metadata": {
        "trusted": true,
        "execution": {
          "iopub.status.busy": "2024-12-14T15:14:08.299631Z",
          "iopub.execute_input": "2024-12-14T15:14:08.299932Z",
          "iopub.status.idle": "2024-12-14T15:14:08.600402Z",
          "shell.execute_reply.started": "2024-12-14T15:14:08.299908Z",
          "shell.execute_reply": "2024-12-14T15:14:08.599707Z"
        },
        "id": "FXQO3Fa1Cwqm"
      },
      "outputs": [],
      "execution_count": null
    },
    {
      "cell_type": "code",
      "source": [
        "print(train['Discussion'].iloc[0])\n",
        "print(\"......................................................................................\")\n",
        "print(test['Discussion'].iloc[281])"
      ],
      "metadata": {
        "trusted": true,
        "execution": {
          "iopub.status.busy": "2024-12-14T15:15:03.722546Z",
          "iopub.execute_input": "2024-12-14T15:15:03.723366Z",
          "iopub.status.idle": "2024-12-14T15:15:03.728192Z",
          "shell.execute_reply.started": "2024-12-14T15:15:03.723325Z",
          "shell.execute_reply": "2024-12-14T15:15:03.727283Z"
        },
        "id": "oiL4xyiKCwqm",
        "outputId": "8ed2aad7-2af2-4718-ac01-f5740a6c98d0"
      },
      "outputs": [
        {
          "name": "stdout",
          "text": "without sitting down and doing it manually you might try some scheduling software there are several here is one that you can download i havent tried it but it seems to do the job nn download the league system pro 30007427 410505040 html tag pdp prod\n......................................................................................\nx rates d usd mxn graph 120 html\n",
          "output_type": "stream"
        }
      ],
      "execution_count": null
    },
    {
      "cell_type": "code",
      "source": [
        "import numpy as np\n",
        "from sklearn.model_selection import train_test_split\n",
        "from tensorflow.keras.preprocessing.text import Tokenizer\n",
        "from tensorflow.keras.preprocessing.sequence import pad_sequences\n",
        "from tensorflow.keras.models import Sequential\n",
        "from tensorflow.keras.layers import Embedding, LSTM, Dense, Dropout, SpatialDropout1D, Bidirectional\n",
        "from tensorflow.keras.utils import to_categorical\n",
        "\n",
        "# concatinating the 2 columns for word embedding (this stratigy achived the highest acc)\n",
        "combined = pd.concat([train['Discussion'], test['Discussion']], axis=0)\n",
        "\n",
        "tokenizer = Tokenizer()\n",
        "tokenizer.fit_on_texts(combined)\n",
        "\n",
        "X_train_seq = tokenizer.texts_to_sequences(train['Discussion'])\n",
        "X_test_seq = tokenizer.texts_to_sequences(test['Discussion'])\n",
        "\n",
        "\n",
        "max_seq_length = 250\n",
        "X_train_padded = pad_sequences(X_train_seq, maxlen=max_seq_length, padding='post')\n",
        "X_test_padded = pad_sequences(X_test_seq, maxlen=max_seq_length, padding='post')\n",
        "\n",
        "# encoding\n",
        "y_train = to_categorical(train['Category'].values)\n",
        "\n",
        "# train_test split\n",
        "X_train_final, X_val, y_train_final, y_val = train_test_split(\n",
        "    X_train_padded, y_train, test_size=0.2, random_state=42, stratify=train['Category']\n",
        ")"
      ],
      "metadata": {
        "trusted": true,
        "execution": {
          "iopub.status.busy": "2024-12-14T15:17:27.990252Z",
          "iopub.execute_input": "2024-12-14T15:17:27.990879Z",
          "iopub.status.idle": "2024-12-14T15:17:41.894264Z",
          "shell.execute_reply.started": "2024-12-14T15:17:27.990848Z",
          "shell.execute_reply": "2024-12-14T15:17:41.893319Z"
        },
        "id": "8dk6jp1jCwqm"
      },
      "outputs": [],
      "execution_count": null
    },
    {
      "cell_type": "code",
      "source": [
        "from tensorflow.keras.callbacks import EarlyStopping\n",
        "\n",
        "# LSTM\n",
        "vocab_size = len(tokenizer.word_index) + 1\n",
        "embedding_dim = 128\n",
        "\n",
        "model = Sequential([\n",
        "    Embedding(input_dim=vocab_size, output_dim=embedding_dim, input_length=max_seq_length),\n",
        "    SpatialDropout1D(0.3),\n",
        "    Bidirectional(LSTM(128, return_sequences=True, dropout=0.3, recurrent_dropout=0.3)),\n",
        "    LSTM(64, dropout=0.2, recurrent_dropout=0.2),\n",
        "    Dense(64, activation='relu'),\n",
        "    Dropout(0.4),\n",
        "    Dense(y_train.shape[1], activation='softmax')\n",
        "])\n",
        "\n",
        "model.compile(optimizer='adam', loss='categorical_crossentropy', metrics=['accuracy'])\n",
        "\n",
        "# early stopping but not used this time\n",
        "# early_stopping = EarlyStopping(\n",
        "#     monitor='val_loss',\n",
        "#     patience=5,\n",
        "#     restore_best_weights=True\n",
        "# )\n",
        "\n",
        "\n",
        "batch_size = 64\n",
        "epochs = 20\n",
        "\n",
        "history = model.fit(\n",
        "    X_train_final, y_train_final,\n",
        "    validation_data=(X_val, y_val),\n",
        "    batch_size=batch_size,\n",
        "    epochs=epochs,\n",
        "    #callbacks=[early_stopping],\n",
        "    verbose=1\n",
        ")"
      ],
      "metadata": {
        "trusted": true,
        "execution": {
          "iopub.status.busy": "2024-12-14T15:18:30.462145Z",
          "iopub.execute_input": "2024-12-14T15:18:30.462744Z",
          "iopub.status.idle": "2024-12-14T16:57:08.083181Z",
          "shell.execute_reply.started": "2024-12-14T15:18:30.462710Z",
          "shell.execute_reply": "2024-12-14T16:57:08.082256Z"
        },
        "id": "K2yGz8yICwqm",
        "outputId": "f329bd9a-d1e3-4e59-9dac-f51a4d37cd55"
      },
      "outputs": [
        {
          "name": "stderr",
          "text": "/opt/conda/lib/python3.10/site-packages/keras/src/layers/core/embedding.py:90: UserWarning: Argument `input_length` is deprecated. Just remove it.\n  warnings.warn(\n",
          "output_type": "stream"
        },
        {
          "name": "stdout",
          "text": "Epoch 1/20\n\u001b[1m309/309\u001b[0m \u001b[32m━━━━━━━━━━━━━━━━━━━━\u001b[0m\u001b[37m\u001b[0m \u001b[1m306s\u001b[0m 962ms/step - accuracy: 0.2213 - loss: 1.6047 - val_accuracy: 0.2280 - val_loss: 1.6022\nEpoch 2/20\n\u001b[1m309/309\u001b[0m \u001b[32m━━━━━━━━━━━━━━━━━━━━\u001b[0m\u001b[37m\u001b[0m \u001b[1m296s\u001b[0m 958ms/step - accuracy: 0.2317 - loss: 1.6002 - val_accuracy: 0.2292 - val_loss: 1.5994\nEpoch 3/20\n\u001b[1m309/309\u001b[0m \u001b[32m━━━━━━━━━━━━━━━━━━━━\u001b[0m\u001b[37m\u001b[0m \u001b[1m296s\u001b[0m 957ms/step - accuracy: 0.2277 - loss: 1.5980 - val_accuracy: 0.2294 - val_loss: 1.5971\nEpoch 4/20\n\u001b[1m309/309\u001b[0m \u001b[32m━━━━━━━━━━━━━━━━━━━━\u001b[0m\u001b[37m\u001b[0m \u001b[1m296s\u001b[0m 959ms/step - accuracy: 0.2273 - loss: 1.5933 - val_accuracy: 0.2217 - val_loss: 1.5983\nEpoch 5/20\n\u001b[1m309/309\u001b[0m \u001b[32m━━━━━━━━━━━━━━━━━━━━\u001b[0m\u001b[37m\u001b[0m \u001b[1m296s\u001b[0m 957ms/step - accuracy: 0.2346 - loss: 1.5866 - val_accuracy: 0.2221 - val_loss: 1.6058\nEpoch 6/20\n\u001b[1m309/309\u001b[0m \u001b[32m━━━━━━━━━━━━━━━━━━━━\u001b[0m\u001b[37m\u001b[0m \u001b[1m295s\u001b[0m 954ms/step - accuracy: 0.2333 - loss: 1.5820 - val_accuracy: 0.2237 - val_loss: 1.6005\nEpoch 7/20\n\u001b[1m309/309\u001b[0m \u001b[32m━━━━━━━━━━━━━━━━━━━━\u001b[0m\u001b[37m\u001b[0m \u001b[1m296s\u001b[0m 957ms/step - accuracy: 0.2407 - loss: 1.5737 - val_accuracy: 0.2264 - val_loss: 1.6014\nEpoch 8/20\n\u001b[1m309/309\u001b[0m \u001b[32m━━━━━━━━━━━━━━━━━━━━\u001b[0m\u001b[37m\u001b[0m \u001b[1m296s\u001b[0m 958ms/step - accuracy: 0.2427 - loss: 1.5692 - val_accuracy: 0.2331 - val_loss: 1.6073\nEpoch 9/20\n\u001b[1m309/309\u001b[0m \u001b[32m━━━━━━━━━━━━━━━━━━━━\u001b[0m\u001b[37m\u001b[0m \u001b[1m295s\u001b[0m 955ms/step - accuracy: 0.2439 - loss: 1.5652 - val_accuracy: 0.2339 - val_loss: 1.6077\nEpoch 10/20\n\u001b[1m309/309\u001b[0m \u001b[32m━━━━━━━━━━━━━━━━━━━━\u001b[0m\u001b[37m\u001b[0m \u001b[1m294s\u001b[0m 951ms/step - accuracy: 0.2381 - loss: 1.5611 - val_accuracy: 0.2278 - val_loss: 1.6204\nEpoch 11/20\n\u001b[1m309/309\u001b[0m \u001b[32m━━━━━━━━━━━━━━━━━━━━\u001b[0m\u001b[37m\u001b[0m \u001b[1m295s\u001b[0m 954ms/step - accuracy: 0.2493 - loss: 1.5570 - val_accuracy: 0.2347 - val_loss: 1.6128\nEpoch 12/20\n\u001b[1m309/309\u001b[0m \u001b[32m━━━━━━━━━━━━━━━━━━━━\u001b[0m\u001b[37m\u001b[0m \u001b[1m295s\u001b[0m 955ms/step - accuracy: 0.2446 - loss: 1.5563 - val_accuracy: 0.2341 - val_loss: 1.6277\nEpoch 13/20\n\u001b[1m309/309\u001b[0m \u001b[32m━━━━━━━━━━━━━━━━━━━━\u001b[0m\u001b[37m\u001b[0m \u001b[1m295s\u001b[0m 955ms/step - accuracy: 0.2431 - loss: 1.5620 - val_accuracy: 0.2337 - val_loss: 1.6303\nEpoch 14/20\n\u001b[1m309/309\u001b[0m \u001b[32m━━━━━━━━━━━━━━━━━━━━\u001b[0m\u001b[37m\u001b[0m \u001b[1m297s\u001b[0m 962ms/step - accuracy: 0.2463 - loss: 1.5552 - val_accuracy: 0.2339 - val_loss: 1.6266\nEpoch 15/20\n\u001b[1m309/309\u001b[0m \u001b[32m━━━━━━━━━━━━━━━━━━━━\u001b[0m\u001b[37m\u001b[0m \u001b[1m297s\u001b[0m 960ms/step - accuracy: 0.2436 - loss: 1.5531 - val_accuracy: 0.3057 - val_loss: 1.5713\nEpoch 16/20\n\u001b[1m309/309\u001b[0m \u001b[32m━━━━━━━━━━━━━━━━━━━━\u001b[0m\u001b[37m\u001b[0m \u001b[1m294s\u001b[0m 952ms/step - accuracy: 0.3468 - loss: 1.4158 - val_accuracy: 0.4373 - val_loss: 1.2536\nEpoch 17/20\n\u001b[1m309/309\u001b[0m \u001b[32m━━━━━━━━━━━━━━━━━━━━\u001b[0m\u001b[37m\u001b[0m \u001b[1m294s\u001b[0m 952ms/step - accuracy: 0.4927 - loss: 1.1157 - val_accuracy: 0.6422 - val_loss: 0.9989\nEpoch 18/20\n\u001b[1m309/309\u001b[0m \u001b[32m━━━━━━━━━━━━━━━━━━━━\u001b[0m\u001b[37m\u001b[0m \u001b[1m295s\u001b[0m 955ms/step - accuracy: 0.7374 - loss: 0.7412 - val_accuracy: 0.6675 - val_loss: 0.9259\nEpoch 19/20\n\u001b[1m309/309\u001b[0m \u001b[32m━━━━━━━━━━━━━━━━━━━━\u001b[0m\u001b[37m\u001b[0m \u001b[1m294s\u001b[0m 953ms/step - accuracy: 0.8256 - loss: 0.5272 - val_accuracy: 0.6751 - val_loss: 0.9995\nEpoch 20/20\n\u001b[1m309/309\u001b[0m \u001b[32m━━━━━━━━━━━━━━━━━━━━\u001b[0m\u001b[37m\u001b[0m \u001b[1m295s\u001b[0m 953ms/step - accuracy: 0.8728 - loss: 0.3901 - val_accuracy: 0.6615 - val_loss: 1.0859\n",
          "output_type": "stream"
        }
      ],
      "execution_count": null
    },
    {
      "cell_type": "code",
      "source": [
        "test_predictions = model.predict(X_test_padded)\n",
        "test['Category'] = np.argmax(test_predictions, axis=1)\n",
        "\n",
        "\n",
        "submission_df = test[['SampleID', 'Category']]\n",
        "submission_df.to_csv('LSTM_submission.csv', index=False)"
      ],
      "metadata": {
        "trusted": true,
        "execution": {
          "iopub.status.busy": "2024-12-14T16:57:24.025339Z",
          "iopub.execute_input": "2024-12-14T16:57:24.025668Z",
          "iopub.status.idle": "2024-12-14T16:58:28.656385Z",
          "shell.execute_reply.started": "2024-12-14T16:57:24.025639Z",
          "shell.execute_reply": "2024-12-14T16:58:28.655739Z"
        },
        "id": "SbpFbHMxCwqn",
        "outputId": "b19033c2-4d14-4a25-cf05-6738f5e4a22c"
      },
      "outputs": [
        {
          "name": "stdout",
          "text": "\u001b[1m330/330\u001b[0m \u001b[32m━━━━━━━━━━━━━━━━━━━━\u001b[0m\u001b[37m\u001b[0m \u001b[1m64s\u001b[0m 194ms/step\n",
          "output_type": "stream"
        }
      ],
      "execution_count": null
    }
  ]
}